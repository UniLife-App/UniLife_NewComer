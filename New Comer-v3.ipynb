{
 "cells": [
  {
   "cell_type": "code",
   "execution_count": 1,
   "metadata": {},
   "outputs": [],
   "source": [
    "import numpy as np\n",
    "import pandas as pd\n",
    "import copy"
   ]
  },
  {
   "cell_type": "code",
   "execution_count": 2,
   "metadata": {},
   "outputs": [],
   "source": [
    "#定義興趣 with 類別，方便日後修改\n",
    "dictInterestCate ={\n",
    "    \"寵物\" : [\"娛樂\", \"生活\"],\n",
    "    \"球類運動\" : [\"體育\"],\n",
    "    \"健身健康\" : [\"體育\", \"生活\"],\n",
    "    \"教育\" : [\"教育\"],\n",
    "    \"心靈成長\" : [\"教育\", \"情感\"],\n",
    "    \"音樂\" : [\"藝文\", \"娛樂\"],\n",
    "    \"美食\" : [\"生活\"],\n",
    "    \"旅遊遊記\" : [\"生活\"],\n",
    "    \"電子遊戲\" : [\"ACG\"],\n",
    "    \"桌上/實境遊戲\" : [\"ACG\"],\n",
    "    \"動畫/漫畫/cosplay/二次元相關\" : [\"ACG\"],\n",
    "    \"Youtuber/網紅/實況主/Vtuber\" : [\"娛樂\"],\n",
    "    \"好書推薦\" : [\"生活\", \"藝文\"],\n",
    "    \"理財投資\" : [\"財經\"],\n",
    "    \"電影\" : [\"娛樂\"],\n",
    "    \"影集戲劇\" : [\"娛樂\"],\n",
    "    \"國際政經\" : [\"財經\", \"時事\"],\n",
    "    \"時事評論\" : [\"議題\", \"時事\"],\n",
    "    \"娛樂八卦\" : [\"娛樂\"],\n",
    "    \"行銷/管理\" : [\"科技\", \"教育\"],\n",
    "    \"科技趨勢\" : [\"科技\"],\n",
    "    \"創新創業\" : [\"教育\", \"職場\"],\n",
    "    \"職場關係\" : [\"職場\"],\n",
    "    \"情感關係\" : [\"情感\"],\n",
    "    \"生活/人文\" : [\"生活\", \"藝文\"],\n",
    "    \"表演展覽\" : [\"生活\", \"藝文\"],\n",
    "    \"美妝穿搭\" : [\"娛樂\"],\n",
    "    \"手工藝\" : [\"藝文\", \"娛樂\"],\n",
    "    \"神秘占卜\" : [\"藝文\"],\n",
    "    \"法律\" : [\"時事\"]\n",
    "}"
   ]
  },
  {
   "cell_type": "code",
   "execution_count": 3,
   "metadata": {},
   "outputs": [],
   "source": [
    "dictIntestMap={\n",
    "    0: '影集戲劇', \n",
    "    1: '國際政經', \n",
    "    2: '時事評論', \n",
    "    3: '娛樂八卦', \n",
    "    4: '行銷/管理', \n",
    "    5: '科技趨勢', \n",
    "    6: '創新創業', \n",
    "    7: '職場關係', \n",
    "    8: '情感關係', \n",
    "    9: '生活/人文', \n",
    "    10: '表演展覽', \n",
    "    11: '美妝穿搭', \n",
    "    12: '手工藝', \n",
    "    13: '神秘占卜', \n",
    "    14: '法律', \n",
    "    15: '寵物', \n",
    "    16: '球類運動', \n",
    "    17: '健身健康', \n",
    "    18: '教育', \n",
    "    19: '心靈成長', \n",
    "    20: '音樂', \n",
    "    21: '美食', \n",
    "    22: '旅遊遊記', \n",
    "    23: '電子遊戲', \n",
    "    24: '桌上/實境遊戲', \n",
    "    25: '動畫/漫畫/cosplay/二次元相關', \n",
    "    26: 'Youtuber/網紅/實況主/Vtuber', \n",
    "    27: '好書推薦', \n",
    "    28: '理財投資', \n",
    "    29: '電影'\n",
    "    }"
   ]
  },
  {
   "cell_type": "code",
   "execution_count": 4,
   "metadata": {},
   "outputs": [],
   "source": [
    "# 取得 Total 類別數 in 興趣數\n",
    "def getTtlCateCount (dictInterestCate):\n",
    "    dictTtlCateCount = {}\n",
    "    for interest in dictInterestCate:\n",
    "        for cate in dictInterestCate[interest]:\n",
    "            if cate not in dictTtlCateCount:\n",
    "                dictTtlCateCount[cate] =1\n",
    "            else:\n",
    "                dictTtlCateCount[cate] +=1\n",
    "    return dictTtlCateCount\n",
    "                \n",
    "#dictTtlCateCount = getTtlCateCount (dictInterestCate)   \n",
    "#print(dictTtlCateCount)\n",
    "#{'娛樂': 8, '生活': 7, '體育': 2, '教育': 4, '情感': 2, '藝文': 6, 'ACG': 3, '財經': 2, '時事': 3, '議題': 1, '科技': 2, '職場': 2}"
   ]
  },
  {
   "cell_type": "code",
   "execution_count": 5,
   "metadata": {},
   "outputs": [],
   "source": [
    "#initial dictUserCateCnt & dictUserCateScore\n",
    "def getIniUserCateCnt(dictTtlCateCount):\n",
    "    dictIniUserCate = {}\n",
    "    for cate, count in dictTtlCateCount.items():\n",
    "        dictIniUserCate[cate] =0\n",
    "    return dictIniUserCate  \n",
    "\n",
    "def getIniUserCateScore(dictTtlCateCount):\n",
    "    dictIniUserCate = {}\n",
    "    for cate, count in dictTtlCateCount.items():\n",
    "        dictIniUserCate[cate] =0\n",
    "    return dictIniUserCate  \n",
    "            \n",
    "#dictIniUserCate = getIniUserCate (dictCateCount)   \n",
    "#print(dictIniUserCate)\n",
    "# {'娛樂': 0, '生活': 0, '體育': 0, '教育': 0, '情感': 0, '藝文': 0, 'ACG': 0, '財經': 0, '時事': 0, '議題': 0, '科技': 0, '職場': 0}"
   ]
  },
  {
   "cell_type": "code",
   "execution_count": 6,
   "metadata": {},
   "outputs": [],
   "source": [
    "# 取得 user 類別數 in 興趣數\n",
    "def getUserCate(userInterestArray, dictInterestCate, dictIntestMap, dictIniUserCate):\n",
    "    for interestNo in userInterestArray:\n",
    "        interest = dictIntestMap[interestNo]\n",
    "        for cate in dictInterestCate[interest]:\n",
    "            dictIniUserCate[cate]+=1             \n",
    "    return  dictIniUserCate\n",
    "# dictUserCate = getUserCate(userInterestArray, dictInterestCate, dictIntestMap, dictIniUserCate)\n",
    "# dictUserCate"
   ]
  },
  {
   "cell_type": "code",
   "execution_count": 10,
   "metadata": {},
   "outputs": [],
   "source": [
    "def getUserScore(dictUserCateCnt, dictTtlCateCount, dictIniUserCateScore):\n",
    "    listCates = dictUserCateCnt.keys()\n",
    "    for cate in listCates :\n",
    "        dictIniUserCateScore[cate] = round(dictUserCateCnt[cate]/dictTtlCateCount[cate]*7)\n",
    "       \n",
    "    return dictIniUserCateScore"
   ]
  },
  {
   "cell_type": "markdown",
   "metadata": {},
   "source": [
    "# Main "
   ]
  },
  {
   "cell_type": "code",
   "execution_count": 8,
   "metadata": {},
   "outputs": [],
   "source": [
    "userInterestArray = [1,3,5,7,9]"
   ]
  },
  {
   "cell_type": "code",
   "execution_count": 11,
   "metadata": {},
   "outputs": [
    {
     "data": {
      "text/plain": [
       "{'娛樂': 1,\n",
       " '生活': 1,\n",
       " '體育': 0,\n",
       " '教育': 0,\n",
       " '情感': 0,\n",
       " '藝文': 1,\n",
       " 'ACG': 0,\n",
       " '財經': 4,\n",
       " '時事': 2,\n",
       " '議題': 0,\n",
       " '科技': 4,\n",
       " '職場': 4}"
      ]
     },
     "execution_count": 11,
     "metadata": {},
     "output_type": "execute_result"
    }
   ],
   "source": [
    "dictTtlCateCount = getTtlCateCount(dictInterestCate)             \n",
    "dictIniUserCateCnt = getIniUserCateCnt(dictTtlCateCount) \n",
    "dictIniUserCateScore = getIniUserCateScore(dictTtlCateCount)  \n",
    "dictUserCateCnt = getUserCate(userInterestArray, dictInterestCate, dictIntestMap, dictIniUserCateCnt)\n",
    "dictUserScore = getUserScore(dictUserCateCnt, dictTtlCateCount, dictIniUserCateScore)\n",
    "\n",
    "dictUserScore"
   ]
  },
  {
   "cell_type": "code",
   "execution_count": null,
   "metadata": {},
   "outputs": [],
   "source": []
  }
 ],
 "metadata": {
  "kernelspec": {
   "display_name": "Python 3",
   "language": "python",
   "name": "python3"
  },
  "language_info": {
   "codemirror_mode": {
    "name": "ipython",
    "version": 3
   },
   "file_extension": ".py",
   "mimetype": "text/x-python",
   "name": "python",
   "nbconvert_exporter": "python",
   "pygments_lexer": "ipython3",
   "version": "3.7.4"
  }
 },
 "nbformat": 4,
 "nbformat_minor": 2
}
